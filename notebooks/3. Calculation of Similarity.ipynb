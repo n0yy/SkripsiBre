{
 "cells": [
  {
   "cell_type": "code",
   "execution_count": 12,
   "metadata": {},
   "outputs": [],
   "source": [
    "import pandas as pd\n",
    "import numpy as np\n",
    "from sklearn.metrics.pairwise import cosine_similarity"
   ]
  },
  {
   "cell_type": "code",
   "execution_count": 2,
   "metadata": {},
   "outputs": [
    {
     "data": {
      "text/html": [
       "<div>\n",
       "<style scoped>\n",
       "    .dataframe tbody tr th:only-of-type {\n",
       "        vertical-align: middle;\n",
       "    }\n",
       "\n",
       "    .dataframe tbody tr th {\n",
       "        vertical-align: top;\n",
       "    }\n",
       "\n",
       "    .dataframe thead th {\n",
       "        text-align: right;\n",
       "    }\n",
       "</style>\n",
       "<table border=\"1\" class=\"dataframe\">\n",
       "  <thead>\n",
       "    <tr style=\"text-align: right;\">\n",
       "      <th></th>\n",
       "      <th>title</th>\n",
       "      <th>price</th>\n",
       "      <th>description</th>\n",
       "      <th>bookURL</th>\n",
       "      <th>ImageURL</th>\n",
       "      <th>text</th>\n",
       "      <th>embedding</th>\n",
       "    </tr>\n",
       "  </thead>\n",
       "  <tbody>\n",
       "    <tr>\n",
       "      <th>0</th>\n",
       "      <td>Tips &amp; Trick Menguasai Excel 2021</td>\n",
       "      <td>0</td>\n",
       "      <td>Fungsi Excel merupakan rumus siap pakai yang ...</td>\n",
       "      <td>https://www.gramedia.com/products/tips-trick-m...</td>\n",
       "      <td>https://cdn.gramedia.com/uploads/picture_meta/...</td>\n",
       "      <td>Tips &amp; Trick Menguasai Excel 2021  Fungsi Exce...</td>\n",
       "      <td>[0.021354165, 0.0145276915, -0.062132616, 0.03...</td>\n",
       "    </tr>\n",
       "    <tr>\n",
       "      <th>1</th>\n",
       "      <td>Kupas Tuntas Microsoft Word 2021</td>\n",
       "      <td>0</td>\n",
       "      <td>Program Microsoft Word 2021 adalah software p...</td>\n",
       "      <td>https://www.gramedia.com/products/kupas-tuntas...</td>\n",
       "      <td>https://cdn.gramedia.com/uploads/picture_meta/...</td>\n",
       "      <td>Kupas Tuntas Microsoft Word 2021  Program Micr...</td>\n",
       "      <td>[0.006129172, 0.035873156, -0.054442372, -0.03...</td>\n",
       "    </tr>\n",
       "  </tbody>\n",
       "</table>\n",
       "</div>"
      ],
      "text/plain": [
       "                               title  price  \\\n",
       "0  Tips & Trick Menguasai Excel 2021      0   \n",
       "1   Kupas Tuntas Microsoft Word 2021      0   \n",
       "\n",
       "                                         description  \\\n",
       "0   Fungsi Excel merupakan rumus siap pakai yang ...   \n",
       "1   Program Microsoft Word 2021 adalah software p...   \n",
       "\n",
       "                                             bookURL  \\\n",
       "0  https://www.gramedia.com/products/tips-trick-m...   \n",
       "1  https://www.gramedia.com/products/kupas-tuntas...   \n",
       "\n",
       "                                            ImageURL  \\\n",
       "0  https://cdn.gramedia.com/uploads/picture_meta/...   \n",
       "1  https://cdn.gramedia.com/uploads/picture_meta/...   \n",
       "\n",
       "                                                text  \\\n",
       "0  Tips & Trick Menguasai Excel 2021  Fungsi Exce...   \n",
       "1  Kupas Tuntas Microsoft Word 2021  Program Micr...   \n",
       "\n",
       "                                           embedding  \n",
       "0  [0.021354165, 0.0145276915, -0.062132616, 0.03...  \n",
       "1  [0.006129172, 0.035873156, -0.054442372, -0.03...  "
      ]
     },
     "execution_count": 2,
     "metadata": {},
     "output_type": "execute_result"
    }
   ],
   "source": [
    "books_with_embbeding = pd.read_csv(\"../data/books_with_embedding.csv\")\n",
    "books_with_embbeding.head(2)"
   ]
  },
  {
   "cell_type": "code",
   "execution_count": 6,
   "metadata": {},
   "outputs": [
    {
     "name": "stdout",
     "output_type": "stream",
     "text": [
      "<class 'pandas.core.frame.DataFrame'>\n",
      "RangeIndex: 1877 entries, 0 to 1876\n",
      "Data columns (total 7 columns):\n",
      " #   Column       Non-Null Count  Dtype \n",
      "---  ------       --------------  ----- \n",
      " 0   title        1877 non-null   object\n",
      " 1   price        1877 non-null   int64 \n",
      " 2   description  1877 non-null   object\n",
      " 3   bookURL      1877 non-null   object\n",
      " 4   ImageURL     1877 non-null   object\n",
      " 5   text         1877 non-null   object\n",
      " 6   embedding    1877 non-null   object\n",
      "dtypes: int64(1), object(6)\n",
      "memory usage: 102.8+ KB\n"
     ]
    }
   ],
   "source": [
    "books_with_embbeding.info()"
   ]
  },
  {
   "cell_type": "code",
   "execution_count": 15,
   "metadata": {},
   "outputs": [],
   "source": [
    "# Preprocessing: Convert to numpy array\n",
    "import ast\n",
    "\n",
    "books_with_embbeding[\"embedding\"] = books_with_embbeding[\"embedding\"].apply(\n",
    "    lambda x: np.array(ast.literal_eval(x)) if isinstance(x, str) else np.array(x)\n",
    ") # Parsing string menjadi list angka (float)"
   ]
  },
  {
   "cell_type": "markdown",
   "metadata": {},
   "source": [
    "# Calculate Cosine Similarity"
   ]
  },
  {
   "cell_type": "markdown",
   "metadata": {},
   "source": [
    "### Formula\n",
    "\n",
    "Cosine similarity antara dua vektor $ \\mathbf{A} $ dan $ \\mathbf{B} $ didefinisikan sebagai:\n",
    "\n",
    "$$\n",
    "\\text{cosine\\_similarity}(\\mathbf{A}, \\mathbf{B}) = \\frac{\\mathbf{A} \\cdot \\mathbf{B}}{\\|\\mathbf{A}\\| \\cdot \\|\\mathbf{B}\\|}\n",
    "$$\n",
    "\n",
    "Untuk kasus membandingkan satu vektor $ \\mathbf{A} $ dengan seluruh matriks embedding $ \\mathbf{M} $, formulanya menjadi:\n",
    "\n",
    "$$\n",
    "\\text{cos\\_sim} = \\frac{\\mathbf{A} \\cdot \\mathbf{M}^T}{\\|\\mathbf{A}\\| \\cdot \\|\\mathbf{M}\\|_{\\text{row-wise}}}\n",
    "$$\n",
    "\n",
    "Dengan:\n",
    "\n",
    "- $ \\mathbf{A} \\cdot \\mathbf{M}^T $: Dot product antara vektor $ \\mathbf{A} $ dan setiap baris dari matriks $ \\mathbf{M} $\n",
    "- $ \\|\\mathbf{A}\\| $: Norma (panjang) dari vektor $ \\mathbf{A} $\n",
    "- $ \\|\\mathbf{M}\\|_{\\text{row-wise}} $: Norma masing-masing baris (vektor) dalam matriks $ \\mathbf{M} $"
   ]
  },
  {
   "cell_type": "code",
   "execution_count": 33,
   "metadata": {},
   "outputs": [
    {
     "data": {
      "text/html": [
       "<div>\n",
       "<style scoped>\n",
       "    .dataframe tbody tr th:only-of-type {\n",
       "        vertical-align: middle;\n",
       "    }\n",
       "\n",
       "    .dataframe tbody tr th {\n",
       "        vertical-align: top;\n",
       "    }\n",
       "\n",
       "    .dataframe thead th {\n",
       "        text-align: right;\n",
       "    }\n",
       "</style>\n",
       "<table border=\"1\" class=\"dataframe\">\n",
       "  <thead>\n",
       "    <tr style=\"text-align: right;\">\n",
       "      <th></th>\n",
       "      <th>title</th>\n",
       "      <th>score</th>\n",
       "    </tr>\n",
       "  </thead>\n",
       "  <tbody>\n",
       "    <tr>\n",
       "      <th>418</th>\n",
       "      <td>Kolaborasi Macro Excel dan Access untuk Membua...</td>\n",
       "      <td>0.977701</td>\n",
       "    </tr>\n",
       "    <tr>\n",
       "      <th>781</th>\n",
       "      <td>Belajar Mengotomisasi Tugas Sehari-hari dengan...</td>\n",
       "      <td>0.856957</td>\n",
       "    </tr>\n",
       "    <tr>\n",
       "      <th>91</th>\n",
       "      <td>Belajar Sendiri VBA Macro Excel untuk Pemula</td>\n",
       "      <td>0.842986</td>\n",
       "    </tr>\n",
       "    <tr>\n",
       "      <th>604</th>\n",
       "      <td>Lebih Mudah Mengelola Database dengan Macro Excel</td>\n",
       "      <td>0.839685</td>\n",
       "    </tr>\n",
       "    <tr>\n",
       "      <th>571</th>\n",
       "      <td>Membuat Aplikasi Penggajian dengan VBA Macro E...</td>\n",
       "      <td>0.834954</td>\n",
       "    </tr>\n",
       "  </tbody>\n",
       "</table>\n",
       "</div>"
      ],
      "text/plain": [
       "                                                 title     score\n",
       "418  Kolaborasi Macro Excel dan Access untuk Membua...  0.977701\n",
       "781  Belajar Mengotomisasi Tugas Sehari-hari dengan...  0.856957\n",
       "91        Belajar Sendiri VBA Macro Excel untuk Pemula  0.842986\n",
       "604  Lebih Mudah Mengelola Database dengan Macro Excel  0.839685\n",
       "571  Membuat Aplikasi Penggajian dengan VBA Macro E...  0.834954"
      ]
     },
     "execution_count": 33,
     "metadata": {},
     "output_type": "execute_result"
    }
   ],
   "source": [
    "# Convert seluruh embedding menjadi array 2D\n",
    "embedding_matrix = np.stack(books_with_embbeding[\"embedding\"].values)\n",
    "\n",
    "\n",
    "# Menghitung similarity antar buku menggukana libray scikit-learn\n",
    "def calc_cos_simil(idx_book: int, top_k=5) -> pd.DataFrame:\n",
    "    cos_sim = cosine_similarity(embedding_matrix[idx_book].reshape(1, -1), embedding_matrix)\n",
    "    df = pd.DataFrame({\n",
    "        \"title\": books_with_embbeding[\"title\"],\n",
    "        \"score\": cos_sim.flatten()\n",
    "    })\n",
    "\n",
    "    # Hapus dirinya sendiri (buku dengan idx_book)\n",
    "    df = df.drop(index=idx_book)\n",
    "\n",
    "    # Sort berdasarkan similarity tertinggi\n",
    "    df = df.sort_values(by=\"score\", ascending=False)\n",
    "    return df.head(top_k)\n",
    "\n",
    "calc_cos_simil(50)"
   ]
  },
  {
   "cell_type": "code",
   "execution_count": null,
   "metadata": {},
   "outputs": [
    {
     "data": {
      "text/html": [
       "<div>\n",
       "<style scoped>\n",
       "    .dataframe tbody tr th:only-of-type {\n",
       "        vertical-align: middle;\n",
       "    }\n",
       "\n",
       "    .dataframe tbody tr th {\n",
       "        vertical-align: top;\n",
       "    }\n",
       "\n",
       "    .dataframe thead th {\n",
       "        text-align: right;\n",
       "    }\n",
       "</style>\n",
       "<table border=\"1\" class=\"dataframe\">\n",
       "  <thead>\n",
       "    <tr style=\"text-align: right;\">\n",
       "      <th></th>\n",
       "      <th>title</th>\n",
       "      <th>score</th>\n",
       "    </tr>\n",
       "  </thead>\n",
       "  <tbody>\n",
       "    <tr>\n",
       "      <th>418</th>\n",
       "      <td>Kolaborasi Macro Excel dan Access untuk Membua...</td>\n",
       "      <td>0.977701</td>\n",
       "    </tr>\n",
       "    <tr>\n",
       "      <th>781</th>\n",
       "      <td>Belajar Mengotomisasi Tugas Sehari-hari dengan...</td>\n",
       "      <td>0.856957</td>\n",
       "    </tr>\n",
       "    <tr>\n",
       "      <th>91</th>\n",
       "      <td>Belajar Sendiri VBA Macro Excel untuk Pemula</td>\n",
       "      <td>0.842986</td>\n",
       "    </tr>\n",
       "    <tr>\n",
       "      <th>604</th>\n",
       "      <td>Lebih Mudah Mengelola Database dengan Macro Excel</td>\n",
       "      <td>0.839685</td>\n",
       "    </tr>\n",
       "    <tr>\n",
       "      <th>571</th>\n",
       "      <td>Membuat Aplikasi Penggajian dengan VBA Macro E...</td>\n",
       "      <td>0.834954</td>\n",
       "    </tr>\n",
       "  </tbody>\n",
       "</table>\n",
       "</div>"
      ],
      "text/plain": [
       "                                                 title     score\n",
       "418  Kolaborasi Macro Excel dan Access untuk Membua...  0.977701\n",
       "781  Belajar Mengotomisasi Tugas Sehari-hari dengan...  0.856957\n",
       "91        Belajar Sendiri VBA Macro Excel untuk Pemula  0.842986\n",
       "604  Lebih Mudah Mengelola Database dengan Macro Excel  0.839685\n",
       "571  Membuat Aplikasi Penggajian dengan VBA Macro E...  0.834954"
      ]
     },
     "execution_count": 34,
     "metadata": {},
     "output_type": "execute_result"
    }
   ],
   "source": [
    "# Menghitung similarity antar buku from scratch\n",
    "def calc_cos_simil_from_scratch(idx_book: int, top_n=5) -> pd.DataFrame:\n",
    "    cos_sim = np.dot(embedding_matrix[idx_book], embedding_matrix.T) / (\n",
    "        np.linalg.norm(embedding_matrix[idx_book]) * np.linalg.norm(embedding_matrix, axis=1)\n",
    "    )\n",
    "    df = pd.DataFrame({\n",
    "        \"title\": books_with_embbeding[\"title\"],\n",
    "        \"score\": cos_sim\n",
    "    })\n",
    "    # Hapus dirinya sendiri (buku dengan idx_book)\n",
    "    df = df.drop(index=idx_book)\n",
    "    # Sort berdasarkan similarity tertinggi\n",
    "    df = df.sort_values(by=\"score\", ascending=False)\n",
    "    return df.head(top_n)\n",
    "calc_cos_simil_from_scratch(50)"
   ]
  },
  {
   "cell_type": "code",
   "execution_count": null,
   "metadata": {},
   "outputs": [],
   "source": []
  }
 ],
 "metadata": {
  "kernelspec": {
   "display_name": ".venv",
   "language": "python",
   "name": "python3"
  },
  "language_info": {
   "codemirror_mode": {
    "name": "ipython",
    "version": 3
   },
   "file_extension": ".py",
   "mimetype": "text/x-python",
   "name": "python",
   "nbconvert_exporter": "python",
   "pygments_lexer": "ipython3",
   "version": "3.11.11"
  }
 },
 "nbformat": 4,
 "nbformat_minor": 2
}
