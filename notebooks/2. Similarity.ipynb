{
 "cells": [
  {
   "cell_type": "code",
   "execution_count": 50,
   "metadata": {},
   "outputs": [],
   "source": [
    "import pandas as pd\n",
    "import numpy as np\n",
    "import ast\n",
    "from sklearn.metrics.pairwise import cosine_similarity"
   ]
  },
  {
   "cell_type": "code",
   "execution_count": 51,
   "metadata": {},
   "outputs": [],
   "source": [
    "df = pd.read_csv(\"../data/books_with_embedding.csv\")\n",
    "df.head()\n",
    "\n",
    "# Convert dtype of embdding to array\n",
    "df[\"embedding\"] = df[\"embedding\"].apply(lambda x: np.array(ast.literal_eval(x)))"
   ]
  },
  {
   "cell_type": "code",
   "execution_count": 77,
   "metadata": {},
   "outputs": [],
   "source": [
    "def calc_similaity(idx: int, display_it: bool = True, save_to_npz: bool = False):\n",
    "    bank = np.vstack(df[\"embedding\"])\n",
    "    if save_to_npz:\n",
    "        np.savez_compressed(\"../models/embeddings.npz\", embeddings=bank)\n",
    "    calc = cosine_similarity(bank[idx].reshape(1, -1), bank)\n",
    "\n",
    "    sorted_indices = np.argsort(calc)[0][::-1]\n",
    "    sorted_indices = sorted_indices[1:11]\n",
    "\n",
    "    if display_it:\n",
    "        print(f\"\\n{'='*100}\\nTitle\\t\\t: {df.loc[idx, \"title\"]}\")\n",
    "        print(f\"Description\\t: {df.loc[idx, \"description\"]}\\n{'='*100}\\n\")\n",
    "        \n",
    "        print(f\"MAY YOU LIKE IT!\")\n",
    "        for simil_idx in sorted_indices:\n",
    "            print(f\"Title \\t\\t: {df.loc[simil_idx, \"title\"]}\")\n",
    "    else:\n",
    "        return sorted_indices"
   ]
  },
  {
   "cell_type": "code",
   "execution_count": 78,
   "metadata": {},
   "outputs": [
    {
     "name": "stdout",
     "output_type": "stream",
     "text": [
      "\n",
      "====================================================================================================\n",
      "Title\t\t: Kupas Tuntas Microsoft Word 2021\n",
      "Description\t:  Program Microsoft Word 2021 adalah software pengolah kata yang sangat populer dan sudah diakui kecanggihannya. Kelengkapan fasilitas dan kemampuannya yang luar biasa dalam mengolah kata, menjadikan software ini banyak dipakai oleh operator komputer, karena keberadaannya benar-benar mampu membantu dan memudahkan pemakai dalam menyelesaikan pekerjaan.\n",
      "====================================================================================================\n",
      "\n",
      "MAY YOU LIKE IT!\n",
      "Title \t\t: Kupas Tuntas Microsoft Word 2021\n",
      "Title \t\t: Shortcourse Series Microsoft Word 2019\n",
      "Title \t\t: Lebih Mahir dengan Microsoft Word 2019\n",
      "Title \t\t: Membuat Bermacam Dokumen Profesional dengan Microsoft Word 2019\n",
      "Title \t\t: Panduan Praktis Microsoft Word 2019\n",
      "Title \t\t: Most Wanted Tips & Trick Word + PowerPoint 2021 Langsung Mahir!\n",
      "Title \t\t: Panduan Lengkap Word dan Excel 2007, 2010, 2013, & 2016\n",
      "Title \t\t: Unboxing Microsoft Office 2013\n",
      "Title \t\t: Solidworks Untuk Desain Manufaktur +Dvd\n",
      "Title \t\t: 155 Tips dan Trik Populer Microsoft Word 2010-2013-2016\n"
     ]
    }
   ],
   "source": [
    "calc_similaity(1, save_to_npz=True)"
   ]
  },
  {
   "cell_type": "markdown",
   "metadata": {},
   "source": [
    "## Save to Parquet"
   ]
  },
  {
   "cell_type": "code",
   "execution_count": 74,
   "metadata": {},
   "outputs": [],
   "source": [
    "df.to_parquet(\"../data/processed/books.parquet\", compression=\"brotli\")"
   ]
  }
 ],
 "metadata": {
  "kernelspec": {
   "display_name": ".venv",
   "language": "python",
   "name": "python3"
  },
  "language_info": {
   "codemirror_mode": {
    "name": "ipython",
    "version": 3
   },
   "file_extension": ".py",
   "mimetype": "text/x-python",
   "name": "python",
   "nbconvert_exporter": "python",
   "pygments_lexer": "ipython3",
   "version": "3.13.2"
  }
 },
 "nbformat": 4,
 "nbformat_minor": 2
}
